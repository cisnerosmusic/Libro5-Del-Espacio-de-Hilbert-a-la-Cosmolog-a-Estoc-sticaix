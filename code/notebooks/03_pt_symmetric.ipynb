{
 "cells": [
  {
   "cell_type": "markdown",
   "metadata": {},
   "source": [
    "# 📘 Notebook 03 — PT-Symmetric Model\n",
    "\n",
    "This notebook explores **Model II**, based on a PT-symmetric formulation implemented in [`model_II_pt_symmetric.py`](../../code/model_II_pt_symmetric.py).\n",
    "\n",
    "We analyze its dynamic behavior and visualize its evolution in phase space and in the equation-of-state parameter w(z).\n",
    "\n",
    "Relevant figures:\n",
    "- ![w(z)](../../media/fig_01_w_z_models.png)\n",
    "- ![Phase map](../../media/figura%201.png)"
   ]
  },
  {
   "cell_type": "code",
   "execution_count": null,
   "metadata": {},
   "outputs": [],
   "source": [
    "# Run the PT-symmetric model\n",
    "from code.model_II_pt_symmetric import run_pt_model\n",
    "\n",
    "# Execute simulation\n",
    "results = run_pt_model()\n",
    "\n",
    "# You can add visualization functions here"
   ]
  },
  {
   "cell_type": "markdown",
   "metadata": {},
   "source": [
    "The PT-symmetric model exhibits a non-trivial trajectory in phase space, with a transient dip in w(z) followed by a return toward w = -1.\n",
    "\n",
    "This behavior may be interpreted as a temporary departure from equilibrium, potentially relevant for describing early-universe dynamics or exotic dark energy scenarios.\n",
    "\n",
    "---\n",
    "\n",
    "En el siguiente notebook exploraremos el modelo tipo fluido con memoria y ruido de Ornstein-Uhlenbeck: [`model_III_ou_fluids.py`](../../code/model_III_ou_fluids.py)."
   ]
  }
 ],
 "metadata": {
  "kernelspec": {
   "display_name": "Python 3",
   "language": "python",
   "name": "python3"
  },
  "language_info": {
   "name": "python",
   "version": "3.8"
  }
 },
 "nbformat": 4,
 "nbformat_minor": 5
}
