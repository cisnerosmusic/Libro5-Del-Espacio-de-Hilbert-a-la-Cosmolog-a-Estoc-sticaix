{
 "cells": [
  {
   "cell_type": "markdown",
   "metadata": {},
   "source": [
    "# 📘 Notebook 04 — OU Fluid Model\n",
    "\n",
    "This notebook explores **Model III**, based on a fluid formulation with Ornstein-Uhlenbeck noise, implemented in [`model_III_ou_fluids.py`](../../code/model_III_ou_fluids.py).\n",
    "\n",
    "We analyze the stochastic behavior of the system and visualize its impact on the equation-of-state parameter and phase space.\n",
    "\n",
    "Relevant figures:\n",
    "- ![w(z)](../../media/fig_01_w_z_models.png)\n",
    "- ![Phase map](../../media/figura%201.png)\n",
    "- ![Attraction surface](../../media/figura%202.png)"
   ]
  },
  {
   "cell_type": "code",
   "execution_count": null,
   "metadata": {},
   "outputs": [],
   "source": [
    "# Run the OU fluid model\n",
    "from code.model_III_ou_fluids import run_ou_model\n",
    "\n",
    "# Execute simulation\n",
    "results = run_ou_model()\n",
    "\n",
    "# You can add visualization functions here"
   ]
  },
  {
   "cell_type": "markdown",
   "metadata": {},
   "source": [
    "The OU fluid model introduces memory and stochasticity into the cosmological dynamics, producing a stable region in the attraction surface A(τ, ω).\n",
    "\n",
    "This behavior may be interpreted as a resilience valley, where the system maintains high stability despite fluctuations.\n",
    "\n",
    "---\n",
    "\n",
    "Este modelo incorpora ruido estocástico tipo Ornstein-Uhlenbeck y una escala de memoria τ, lo que genera una región de alta estabilidad en el espacio de parámetros.\n",
    "\n",
    "La superficie de atracción A(τ, ω) revela un \"valle de resiliencia\" que puede ser relevante para entender mecanismos de amortiguación cósmica.\n",
    "\n",
    "Este es el cierre de los tres modelos formales. Puedes regresar al notebook de introducción o explorar las visualizaciones en `/media`."
   ]
  }
 ],
 "metadata": {
  "kernelspec": {
   "display_name": "Python 3",
   "language": "python",
   "name": "python3"
  },
  "language_info": {
   "name": "python",
   "version": "3.8"
  }
 },
 "nbformat": 4,
 "nbformat_minor": 5
}
