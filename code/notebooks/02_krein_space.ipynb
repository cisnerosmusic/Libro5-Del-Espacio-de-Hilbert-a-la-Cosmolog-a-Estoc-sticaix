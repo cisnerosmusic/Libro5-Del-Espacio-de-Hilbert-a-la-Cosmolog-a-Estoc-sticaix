# 📘 Notebook 02 — Krein Space Model
# Autor: Ernesto Cisneros Cino
# Proyecto: Libro 5 — Del Espacio de Hilbert a la Cosmología Estocástica

"""
Este notebook explora el Modelo I (Krein) implementado en `model_I_krein.py`.
Se analiza su evolución dinámica, se visualiza su trayectoria en el espacio de fase,
y se vincula con las figuras generadas en `/media`.

El modelo se basa en una estructura de espacio de Krein, con dinámica acoplada
y comportamiento oscilatorio que se aproxima a w ≈ -1 en régimen tardío.
"""

# 📦 Importar el modelo
from code.model_I_krein import run_krein_model, plot_phase_map, compute_w_z

# 🧮 Ejecutar simulación
results = run_krein_model()

# 📈 Visualizar mapa de fase
plot_phase_map(results)

# 📉 Calcular evolución de w(z)
w_z = compute_w_z(results)

# 📊 Mostrar evolución
import matplotlib.pyplot as plt
plt.plot(w_z['z'], w_z['w'], color='orange', label='Modelo I — Krein')
plt.xlabel('z')
plt.ylabel('w(z)')
plt.title('Evolución de w(z) — Modelo Krein')
plt.legend()
plt.grid(True)
plt.show()

# 📁 Enlace a figura relevante
from IPython.display import Image, display
display(Image(filename='../../media/fig_01_w_z_models.png'))
display(Image(filename='../../media/figura 1.png'))

# 🧭 Comentario final
"""
Este modelo muestra una trayectoria suave en el espacio de fase y una evolución
de w(z) que se aproxima a -1 sin cruzarlo, lo que lo hace compatible con escenarios
de energía oscura sin singularidades. En el siguiente notebook exploraremos el
modelo PT-simétrico.
"""
