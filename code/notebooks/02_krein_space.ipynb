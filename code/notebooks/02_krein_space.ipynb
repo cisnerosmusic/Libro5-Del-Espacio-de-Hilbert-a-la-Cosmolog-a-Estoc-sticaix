{
 "cells": [
  {
   "cell_type": "markdown",
   "metadata": {},
   "source": [
    "# 📘 Notebook 02 — Krein Space Model\n",
    "Este notebook invoca el modelo Krein desde `model_I_krein.py` y visualiza su evolución.\n",
    "\n",
    "Enlace al script: [`model_I_krein.py`](../../code/model_I_krein.py)\n",
    "\n",
    "Figura relevante: ![w(z)](../../media/fig_01_w_z_models.png)"
   ]
  },
  {
   "cell_type": "code",
   "execution_count": null,
   "metadata": {},
   "outputs": [],
   "source": [
    "# Ejecutar el modelo Krein\n",
    "from code.model_I_krein import run_krein_model\n",
    "results = run_krein_model()\n",
    "\n",
    "# Visualizar resultados (puedes agregar funciones de graficado aquí)"
   ]
  }
 ],
 "metadata": {
  "kernelspec": {
   "display_name": "Python 3",
   "language": "python",
   "name": "python3"
  },
  "language_info": {
   "name": "python",
   "version": "3.8"
  }
 },
 "nbformat": 4,
 "nbformat_minor": 5
}
