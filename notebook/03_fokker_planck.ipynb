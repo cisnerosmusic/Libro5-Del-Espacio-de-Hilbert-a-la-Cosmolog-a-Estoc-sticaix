{
 "cells": [
  {
   "cell_type": "markdown",
   "metadata": {},
   "source": [
    "# 📘 03_fokker_planck.ipynb\n",
    "## Capítulo 4: Ecuación de Fokker–Planck ampliada"
   ]
  },
  {
   "cell_type": "code",
   "execution_count": null,
   "metadata": {},
   "outputs": [],
   "source": [
    "import sympy as sp\n",
    "from sympy import symbols, Matrix, Function, simplify\n",
    "sp.init_printing()"
   ]
  },
  {
   "cell_type": "code",
   "execution_count": null,
   "metadata": {},
   "outputs": [],
   "source": [
    "# --- 1. Variables del sistema ---\n",
    "phi, dphi, chi, dchi = symbols('phi dphi chi dchi', real=True)\n",
    "zeta_phi, zeta_chi = symbols('zeta_phi zeta_chi', real=True)\n",
    "tau_phi, tau_chi = symbols('tau_phi tau_chi', positive=True)\n",
    "Gamma_phi, Gamma_chi = symbols('Gamma_phi Gamma_chi', positive=True)\n",
    "T_GH = symbols('T_GH', positive=True)\n",
    "\n",
    "# Vector de estado\n",
    "X = Matrix([phi, dphi, chi, dchi, zeta_phi, zeta_chi])\n",
    "n = len(X)"
   ]
  },
  {
   "cell_type": "code",
   "execution_count": null,
   "metadata": {},
   "outputs": [],
   "source": [
    "# --- 2. Drift A(X) ---\n",
    "# Derivadas del potencial\n",
    "m_phi, m_chi = symbols('m_phi m_chi', positive=True)\n",
    "lambda_phi, lambda_chi = symbols('lambda_phi lambda_chi', positive=True)\n",
    "g = symbols('g', real=True)\n",
    "\n",
    "V_phi = -0.5 * m_phi**2 * phi**2 + (lambda_phi/4) * phi**4\n",
    "V_chi = 0.5 * m_chi**2 * chi**2 + (lambda_chi/4) * chi**4\n",
    "V_int = 0.5 * g**2 * phi**2 * chi**2\n",
    "V = V_phi + V_chi + V_int\n",
    "\n",
    "dV_dphi = sp.diff(V, phi)\n",
    "dV_dchi = sp.diff(V, chi)\n",
    "\n",
    "H = Function('H')(sp.Symbol('t'))\n",
    "\n",
    "A = Matrix([\n",
    "    dphi,\n",
    "    -3*H*dphi - dV_dphi + zeta_phi,\n",
    "    dchi,\n",
    "    -3*H*dchi - dV_dchi + zeta_chi,\n",
    "    -zeta_phi / tau_phi,\n",
    "    -zeta_chi / tau_chi\n",
    "])\n",
    "\n",
    "print(\"Vector de drift A(X):\")\n",
    "display(simplify(A))"
   ]
  },
  {
   "cell_type": "code",
   "execution_count": null,
   "metadata": {},
   "outputs": [],
   "source": [
    "# --- 3. Matriz de difusión D(X) ---\n",
    "D = Matrix.zeros(n, n)\n",
    "D[4, 4] = 2 * Gamma_phi * T_GH / tau_phi**2\n",
    "D[5, 5] = 2 * Gamma_chi * T_GH / tau_chi**2\n",
    "\n",
    "print(\"Matriz de difusión D(X):\")\n",
    "display(D)"
   ]
  },
  {
   "cell_type": "code",
   "execution_count": null,
   "metadata": {},
   "outputs": [],
   "source": [
    "# --- 4. Ecuación de Fokker–Planck (esquema formal) ---\n",
    "P = Function('P')(*X, sp.Symbol('t'))\n",
    "t = symbols('t')\n",
    "\n",
    "FP = -sum(sp.diff(A[i]*P, X[i]) for i in range(n)) + \\\n",
    "     0.5 * sum(sp.diff(sp.diff(D[i,j]*P, X[i]), X[j]) for i in range(n) for j in range(n))\n",
    "\n",
    "print(\"Ecuación de Fokker–Planck (∂ₜP = ...):\")\n",
    "display(sp.Eq(sp.Derivative(P, t), simplify(FP)))"
   ]
  }
 ],
 "metadata": {
  "kernelspec": {
   "display_name": "Python 3",
   "language": "python",
   "name": "python3"
  },
  "language_info": {
   "name": "python",
   "version": "3.10"
  }
 },
 "nbformat": 4,
 "nbformat_minor": 2
}
