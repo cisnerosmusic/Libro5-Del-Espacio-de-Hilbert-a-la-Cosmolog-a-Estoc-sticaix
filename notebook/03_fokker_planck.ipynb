# 📘 03_fokker_planck.ipynb
# Capítulo 4: Ecuación de Fokker–Planck ampliada

import sympy as sp
from sympy import symbols, Matrix, Function, simplify
sp.init_printing()

# --- 1. Variables del sistema ---
phi, dphi, chi, dchi = symbols('phi dphi chi dchi', real=True)
zeta_phi, zeta_chi = symbols('zeta_phi zeta_chi', real=True)
tau_phi, tau_chi = symbols('tau_phi tau_chi', positive=True)
Gamma_phi, Gamma_chi = symbols('Gamma_phi Gamma_chi', positive=True)
T_GH = symbols('T_GH', positive=True)

# Vector de estado
X = Matrix([phi, dphi, chi, dchi, zeta_phi, zeta_chi])
n = len(X)

# --- 2. Drift A(X) ---
# Derivadas del potencial
m_phi, m_chi = symbols('m_phi m_chi', positive=True)
lambda_phi, lambda_chi = symbols('lambda_phi lambda_chi', positive=True)
g = symbols('g', real=True)

V_phi = -0.5 * m_phi**2 * phi**2 + (lambda_phi/4) * phi**4
V_chi = 0.5 * m_chi**2 * chi**2 + (lambda_chi/4) * chi**4
V_int = 0.5 * g**2 * phi**2 * chi**2
V = V_phi + V_chi + V_int

dV_dphi = sp.diff(V, phi)
dV_dchi = sp.diff(V, chi)

H = Function('H')(sp.Symbol('t'))

A = Matrix([
    dphi,
    -3*H*dphi - dV_dphi + zeta_phi,
    dchi,
    -3*H*dchi - dV_dchi + zeta_chi,
    -zeta_phi / tau_phi,
    -zeta_chi / tau_chi
])

print("Vector de drift A(X):")
display(simplify(A))

# --- 3. Matriz de difusión D(X) ---
D = Matrix.zeros(n, n)
D[4, 4] = 2 * Gamma_phi * T_GH / tau_phi**2
D[5, 5] = 2 * Gamma_chi * T_GH / tau_chi**2

print("Matriz de difusión D(X):")
display(D)

# --- 4. Ecuación de Fokker–Planck (esquema formal) ---
P = Function('P')(*X, sp.Symbol('t'))
t = symbols('t')

FP = -sum(sp.diff(A[i]*P, X[i]) for i in range(n)) + \
     0.5 * sum(sp.diff(sp.diff(D[i,j]*P, X[i]), X[j]) for i in range(n) for j in range(n))

print("Ecuación de Fokker–Planck (∂ₜP = ...):")
display(sp.Eq(sp.Derivative(P, t), simplify(FP)))
