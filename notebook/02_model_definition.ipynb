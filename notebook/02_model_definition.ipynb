{
 "cells": [
  {
   "cell_type": "markdown",
   "metadata": {},
   "source": [
    "# 📘 02_model_definition.ipynb\n",
    "## Capítulo 3: Modelo cosmológico y ruido autoconsistente"
   ]
  },
  {
   "cell_type": "code",
   "execution_count": null,
   "metadata": {},
   "outputs": [],
   "source": [
    "import numpy as np\n",
    "import matplotlib.pyplot as plt\n",
    "from scipy.integrate import solve_ivp"
   ]
  },
  {
   "cell_type": "code",
   "execution_count": null,
   "metadata": {},
   "outputs": [],
   "source": [
    "# --- 1. Parámetros del modelo ---\n",
    "params = {\n",
    "    'm_phi': 1.0,\n",
    "    'm_chi': 1.0,\n",
    "    'lambda_phi': 0.1,\n",
    "    'lambda_chi': 0.1,\n",
    "    'g': 0.2,\n",
    "    'V0': 0.0,\n",
    "    'alpha_phi': 1.0,\n",
    "    'alpha_chi': 1.0,\n",
    "    'tau_phi': 2.0,\n",
    "    'tau_chi': 2.0\n",
    "}"
   ]
  },
  {
   "cell_type": "code",
   "execution_count": null,
   "metadata": {},
   "outputs": [],
   "source": [
    "# --- 2. Potencial V(phi, chi) ---\n",
    "def V(phi, chi, p=params):\n",
    "    V_phi = -0.5 * p['m_phi']**2 * phi**2 + (p['lambda_phi']/4) * phi**4\n",
    "    V_chi = 0.5 * p['m_chi']**2 * chi**2 + (p['lambda_chi']/4) * chi**4\n",
    "    V_int = 0.5 * p['g']**2 * phi**2 * chi**2 + p['V0']\n",
    "    return V_phi + V_chi + V_int"
   ]
  },
  {
   "cell_type": "code",
   "execution_count": null,
   "metadata": {},
   "outputs": [],
   "source": [
    "# --- 3. Ecuación de Friedmann ---\n",
    "def Hubble(phi, chi, dphi, dchi, p=params):\n",
    "    rho = 0.5 * (dphi**2 + dchi**2) + V(phi, chi, p)\n",
    "    return np.sqrt(rho)"
   ]
  },
  {
   "cell_type": "code",
   "execution_count": null,
   "metadata": {},
   "outputs": [],
   "source": [
    "# --- 4. Temperatura de Gibbons–Hawking ---\n",
    "def T_GH(H):\n",
    "    return H / (2 * np.pi)"
   ]
  },
  {
   "cell_type": "code",
   "execution_count": null,
   "metadata": {},
   "outputs": [],
   "source": [
    "# --- 5. Ruido OU autoconsistente ---\n",
    "def OU_noise(zeta, tau, Gamma, Tgh, dt):\n",
    "    decay = -zeta / tau\n",
    "    diffusion = np.sqrt(2 * Gamma * Tgh / tau**2) * np.random.normal(0, np.sqrt(dt))\n",
    "    return decay + diffusion"
   ]
  },
  {
   "cell_type": "code",
   "execution_count": null,
   "metadata": {},
   "outputs": [],
   "source": [
    "# --- 6. Derivadas del potencial ---\n",
    "def dV_dphi(phi, chi, p):\n",
    "    return -p['m_phi']**2 * phi + p['lambda_phi'] * phi**3 + p['g']**2 * phi * chi**2\n",
    "\n",
    "def dV_dchi(phi, chi, p):\n",
    "    return p['m_chi']**2 * chi + p['lambda_chi'] * chi**3 + p['g']**2 * chi * phi**2"
   ]
  },
  {
   "cell_type": "code",
   "execution_count": null,
   "metadata": {},
   "outputs": [],
   "source": [
    "# --- 7. Ecuaciones de movimiento ---\n",
    "def dynamics(t, Y, p=params):\n",
    "    phi, dphi, chi, dchi, zeta_phi, zeta_chi = Y\n",
    "    H = Hubble(phi, chi, dphi, dchi, p)\n",
    "    Tgh = T_GH(H)\n",
    "    Gamma_phi = p['alpha_phi'] * 3 * H\n",
    "    Gamma_chi = p['alpha_chi'] * 3 * H\n",
    "\n",
    "    ddphi = -3 * H * dphi - dV_dphi(phi, chi, p) + zeta_phi\n",
    "    ddchi = -3 * H * dchi - dV_dchi(phi, chi, p) + zeta_chi\n",
    "\n",
    "    dzeta_phi = OU_noise(zeta_phi, p['tau_phi'], Gamma_phi, Tgh, dt=0.01)\n",
    "    dzeta_chi = OU_noise(zeta_chi, p['tau_chi'], Gamma_chi, Tgh, dt=0.01)\n",
    "\n",
    "    return [dphi, ddphi, dchi, ddchi, dzeta_phi, dzeta_chi]"
   ]
  },
  {
   "cell_type": "code",
   "execution_count": null,
   "metadata": {},
   "outputs": [],
   "source": [
    "# --- 8. Condiciones iniciales ---\n",
    "Y0 = [0.1, 0.0, 0.1, 0.0, 0.0, 0.0]\n",
    "t_span = (0, 50)\n",
    "t_eval = np.linspace(*t_span, 5000)"
   ]
  },
  {
   "cell_type": "code",
   "execution_count": null,
   "metadata": {},
   "outputs": [],
   "source": [
    "# --- 9. Integración numérica ---\n",
    "sol = solve_ivp(lambda t, y: dynamics(t, y, params), t_span, Y0, t_eval=t_eval, method='RK45')"
   ]
  },
  {
   "cell_type": "code",
   "execution_count": null,
   "metadata": {},
   "outputs": [],
   "source": [
    "# --- 10. Visualización básica ---\n",
    "plt.figure(figsize=(10, 4))\n",
    "plt.plot(sol.t, sol.y[0], label='ϕ(t)')\n",
    "plt.plot(sol.t, sol.y[2], label='χ(t)')\n",
    "plt.xlabel('Tiempo')\n",
    "plt.ylabel('Campos')\n",
    "plt.title('Evolución de ϕ y χ con ruido OU autoconsistente')\n",
    "plt.legend()\n",
    "plt.grid()\n",
    "plt.show()"
   ]
  }
 ],
 "metadata": {
  "kernelspec": {
   "display_name": "Python 3",
   "language": "python",
   "name": "python3"
  },
  "language_info": {
   "name": "python",
   "version": "3.10"
  }
 },
 "nbformat": 4,
 "nbformat_minor": 2
}
