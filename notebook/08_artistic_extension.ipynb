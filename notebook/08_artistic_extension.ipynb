{
 "cells": [
  {
   "cell_type": "markdown",
   "metadata": {},
   "source": [
    "# 📘 08_artistic_extension.ipynb\n",
    "## Capítulo 9: Extensión artística y musical del modelo"
   ]
  },
  {
   "cell_type": "code",
   "execution_count": null,
   "metadata": {},
   "outputs": [],
   "source": [
    "# --- 1. Trayectorias como arte ---\n",
    "import numpy as np\n",
    "import matplotlib.pyplot as plt\n",
    "from scipy.ndimage import gaussian_filter1d\n",
    "\n",
    "# Simulación base\n",
    "T = 100\n",
    "dt = 0.01\n",
    "N = int(T / dt)\n",
    "t = np.linspace(0, T, N)\n",
    "phi = np.sin(0.2 * t) * np.exp(-0.01 * t)\n",
    "chi = np.cos(0.2 * t) * np.exp(-0.01 * t)\n",
    "\n",
    "# Suavizado artístico\n",
    "phi_s = gaussian_filter1d(phi, sigma=10)\n",
    "chi_s = gaussian_filter1d(chi, sigma=10)\n",
    "\n",
    "# --- 2. Visualización poética ---\n",
    "plt.figure(figsize=(10, 5))\n",
    "plt.plot(t, phi_s, label='ϕ(t)', color='crimson')\n",
    "plt.plot(t, chi_s, label='χ(t)', color='royalblue')\n",
    "plt.fill_between(t, phi_s, chi_s, color='lavender', alpha=0.3)\n",
    "plt.title('Sinfonía cósmica: trayectorias suavizadas')\n",
    "plt.xlabel('Tiempo')\n",
    "plt.ylabel('Amplitud')\n",
    "plt.legend()\n",
    "plt.grid()\n",
    "plt.show()"
   ]
  },
  {
   "cell_type": "code",
   "execution_count": null,
   "metadata": {},
   "outputs": [],
   "source": [
    "# --- 3. Generación de partitura ---\n",
    "from scipy.io.wavfile import write\n",
    "\n",
    "# Normalizar y convertir a audio\n",
    "phi_audio = np.int16((phi_s / np.max(np.abs(phi_s))) * 32767)\n",
    "chi_audio = np.int16((chi_s / np.max(np.abs(chi_s))) * 32767)\n",
    "combined = phi_audio + chi_audio\n",
    "\n",
    "# Guardar como WAV (solo local)\n",
    "# write('cosmic_duet.wav', int(1/dt), combined)\n",
    "print(\"🎼 Audio generado (comentado para ejecución segura).\")"
   ]
  },
  {
   "cell_type": "code",
   "execution_count": null,
   "metadata": {},
   "outputs": [],
   "source": [
    "# --- 4. Poema generado ---\n",
    "poema = '''\n",
    "En el crisol del vacío danzan,\n",
    "ϕ y χ, pulsos de un universo en fuga.\n",
    "Memoria y ruido, disipan el tiempo,\n",
    "como notas que se desvanecen en la bruma.\n",
    "\n",
    "No hay centro, no hay borde,\n",
    "solo ciclos que se niegan a morir.\n",
    "Y en su oscilación, la música del cosmos\n",
    "se escribe en trayectorias que nadie ve.\n",
    "'''\n",
    "print(poema)"
   ]
  }
 ],
 "metadata": {
  "kernelspec": {
   "display_name": "Python 3",
   "language": "python",
   "name": "python3"
  },
  "language_info": {
   "name": "python",
   "version": "3.10"
  }
 },
 "nbformat": 4,
 "nbformat_minor": 2
}
