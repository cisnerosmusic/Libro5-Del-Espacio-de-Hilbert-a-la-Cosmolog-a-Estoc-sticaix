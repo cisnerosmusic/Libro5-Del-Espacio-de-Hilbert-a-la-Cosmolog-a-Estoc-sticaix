{
 "cells": [
  {
   "cell_type": "markdown",
   "metadata": {},
   "source": [
    "# 📘 05_observables.ipynb\n",
    "## Capítulo 6: Observables efectivos Ω, w_total"
   ]
  },
  {
   "cell_type": "code",
   "execution_count": null,
   "metadata": {},
   "outputs": [],
   "source": [
    "import numpy as np\n",
    "import matplotlib.pyplot as plt\n",
    "from scipy.ndimage import uniform_filter1d"
   ]
  },
  {
   "cell_type": "code",
   "execution_count": null,
   "metadata": {},
   "outputs": [],
   "source": [
    "# --- 2. Potenciales individuales ---\n",
    "def V_phi(phi, p): return -0.5*p['m_phi']**2*phi**2 + (p['lambda_phi']/4)*phi**4\n",
    "def V_chi(chi, p): return 0.5*p['m_chi']**2*chi**2 + (p['lambda_chi']/4)*chi**4\n",
    "def V_int(phi, chi, p): return 0.5*p['g']**2 * phi**2 * chi**2 + p['V0']"
   ]
  },
  {
   "cell_type": "code",
   "execution_count": null,
   "metadata": {},
   "outputs": [],
   "source": [
    "# --- 3. Densidades y presión ---\n",
    "def compute_observables(phi, dphi, chi, dchi, p):\n",
    "    Vϕ = V_phi(phi, p)\n",
    "    Vχ = V_chi(chi, p)\n",
    "    Vint = V_int(phi, chi, p)\n",
    "\n",
    "    rho_phi = 0.5 * dphi**2 + Vϕ\n",
    "    rho_chi = 0.5 * dchi**2 + Vχ\n",
    "    p_total = 0.5 * (dphi**2 + dchi**2) - (Vϕ + Vχ)\n",
    "    rho_total = rho_phi + rho_chi + Vint\n",
    "\n",
    "    w_total = p_total / rho_total\n",
    "    Omega_phi = rho_phi / rho_total\n",
    "    Omega_chi = rho_chi / rho_total\n",
    "\n",
    "    return Omega_phi, Omega_chi, w_total"
   ]
  },
  {
   "cell_type": "code",
   "execution_count": null,
   "metadata": {},
   "outputs": [],
   "source": [
    "Omega_phi, Omega_chi, w_total = compute_observables(phi, dphi, chi, dchi, params)"
   ]
  },
  {
   "cell_type": "code",
   "execution_count": null,
   "metadata": {},
   "outputs": [],
   "source": [
    "# --- 4. Promedios móviles ---\n",
    "Omega_phi_smooth = uniform_filter1d(Omega_phi, size=200)\n",
    "Omega_chi_smooth = uniform_filter1d(Omega_chi, size=200)\n",
    "w_smooth = uniform_filter1d(w_total, size=200)"
   ]
  },
  {
   "cell_type": "code",
   "execution_count": null,
   "metadata": {},
   "outputs": [],
   "source": [
    "# --- 5. Gráficas de evolución ---\n",
    "plt.figure(figsize=(10, 4))\n",
    "plt.plot(t, Omega_phi_smooth, label='Ωϕ', color='navy')\n",
    "plt.plot(t, Omega_chi_smooth, label='Ωχ', color='darkgreen')\n",
    "plt.xlabel('Tiempo')\n",
    "plt.ylabel('Densidad fraccional')\n",
    "plt.title('Evolución de Ωϕ y Ωχ')\n",
    "plt.legend()\n",
    "plt.grid()\n",
    "plt.show()\n",
    "\n",
    "plt.figure(figsize=(10, 4))\n",
    "plt.plot(t, w_smooth, label='w_total', color='purple')\n",
    "plt.xlabel('Tiempo')\n",
    "plt.ylabel('w_total')\n",
    "plt.title('Evolución de w_total (promedio móvil)')\n",
    "plt.grid()\n",
    "plt.show()"
   ]
  },
  {
   "cell_type": "code",
   "execution_count": null,
   "metadata": {},
   "outputs": [],
   "source": [
    "# --- 6. Histograma tardío ---\n",
    "cutoff = int(0.8 * len(w_total))  # últimos 20% del tiempo\n",
    "w_tail = w_total[cutoff:]\n",
    "\n",
    "plt.figure(figsize=(8, 4))\n",
    "plt.hist(w_tail, bins=50, color='orchid', edgecolor='black', alpha=0.7)\n",
    "plt.xlabel('w_total')\n",
    "plt.ylabel('Frecuencia')\n",
    "plt.title('Histograma de w_total en régimen tardío')\n",
    "plt.grid()\n",
    "plt.show()"
   ]
  },
  {
   "cell_type": "code",
   "execution_count": null,
   "metadata": {},
   "outputs": [],
   "source": [
    "# --- 7. Estadísticas ---\n",
    "mean_w = np.mean(w_tail)\n",
    "std_w = np.std(w_tail)\n",
    "print(f\"⟨w_total⟩ ≈ {mean_w:.3f} ± {std_w:.3f}\")"
   ]
  }
 ],
 "metadata": {
  "kernelspec": {
   "display_name": "Python 3",
   "language": "python",
   "name": "python3"
  },
  "language_info": {
   "name": "python",
   "version": "3.10"
  }
 },
 "nbformat": 4,
 "nbformat_minor": 2
}
