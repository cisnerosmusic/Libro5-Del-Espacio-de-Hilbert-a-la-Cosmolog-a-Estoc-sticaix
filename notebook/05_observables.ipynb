# 📘 05_observables.ipynb
# Capítulo 6: Observables efectivos Ω, w_total

import numpy as np
import matplotlib.pyplot as plt
from scipy.ndimage import uniform_filter1d

# --- 1. Reutilizar simulación previa ---
# Si ya tienes t, phi, dphi, chi, dchi del notebook anterior, continúa.
# Si no, vuelve a ejecutar simulate(params)

# --- 2. Potenciales individuales ---
def V_phi(phi, p): return -0.5*p['m_phi']**2*phi**2 + (p['lambda_phi']/4)*phi**4
def V_chi(chi, p): return 0.5*p['m_chi']**2*chi**2 + (p['lambda_chi']/4)*chi**4
def V_int(phi, chi, p): return 0.5*p['g']**2 * phi**2 * chi**2 + p['V0']

# --- 3. Densidades y presión ---
def compute_observables(phi, dphi, chi, dchi, p):
    Vϕ = V_phi(phi, p)
    Vχ = V_chi(chi, p)
    Vint = V_int(phi, chi, p)

    rho_phi = 0.5 * dphi**2 + Vϕ
    rho_chi = 0.5 * dchi**2 + Vχ
    p_total = 0.5 * (dphi**2 + dchi**2) - (Vϕ + Vχ)
    rho_total = rho_phi + rho_chi + Vint

    w_total = p_total / rho_total
    Omega_phi = rho_phi / rho_total
    Omega_chi = rho_chi / rho_total

    return Omega_phi, Omega_chi, w_total

Omega_phi, Omega_chi, w_total = compute_observables(phi, dphi, chi, dchi, params)

# --- 4. Promedios móviles ---
Omega_phi_smooth = uniform_filter1d(Omega_phi, size=200)
Omega_chi_smooth = uniform_filter1d(Omega_chi, size=200)
w_smooth = uniform_filter1d(w_total, size=200)

# --- 5. Gráficas de evolución ---
plt.figure(figsize=(10, 4))
plt.plot(t, Omega_phi_smooth, label='Ωϕ', color='navy')
plt.plot(t, Omega_chi_smooth, label='Ωχ', color='darkgreen')
plt.xlabel('Tiempo')
plt.ylabel('Densidad fraccional')
plt.title('Evolución de Ωϕ y Ωχ')
plt.legend()
plt.grid()
plt.show()

plt.figure(figsize=(10, 4))
plt.plot(t, w_smooth, label='w_total', color='purple')
plt.xlabel('Tiempo')
plt.ylabel('w_total')
plt.title('Evolución de w_total (promedio móvil)')
plt.grid()
plt.show()

# --- 6. Histograma tardío ---
cutoff = int(0.8 * len(w_total))  # últimos 20% del tiempo
w_tail = w_total[cutoff:]

plt.figure(figsize=(8, 4))
plt.hist(w_tail, bins=50, color='orchid', edgecolor='black', alpha=0.7)
plt.xlabel('w_total')
plt.ylabel('Frecuencia')
plt.title('Histograma de w_total en régimen tardío')
plt.grid()
plt.show()

# --- 7. Estadísticas ---
mean_w = np.mean(w_tail)
std_w = np.std(w_tail)
print(f"⟨w_total⟩ ≈ {mean_w:.3f} ± {std_w:.3f}")
