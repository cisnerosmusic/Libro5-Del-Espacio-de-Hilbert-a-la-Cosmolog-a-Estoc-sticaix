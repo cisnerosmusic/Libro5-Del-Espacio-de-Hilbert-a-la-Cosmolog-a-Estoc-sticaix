# 📘 06_sensitivity_tau.ipynb
# Capítulo 7: Sensibilidad al parámetro de memoria τ

import numpy as np
import matplotlib.pyplot as plt
from scipy.fft import rfft, rfftfreq
from scipy.ndimage import uniform_filter1d

# --- 1. Funciones reutilizadas ---
def simulate_tau(tau_value, params_base, T=100, dt=0.01):
    p = params_base.copy()
    p['tau_phi'] = tau_value
    p['tau_chi'] = tau_value
    N = int(T / dt)
    phi, dphi = np.zeros(N), np.zeros(N)
    chi, dchi = np.zeros(N), np.zeros(N)
    zeta_phi, zeta_chi = np.zeros(N), np.zeros(N)

    phi[0], chi[0] = 0.1, 0.1
    dphi[0], dchi[0] = 0.0, 0.0

    for i in range(N-1):
        H = np.sqrt(0.5*(dphi[i]**2 + dchi[i]**2) + V(phi[i], chi[i], p))
        Tgh = H / (2 * np.pi)
        Gamma_phi = p['alpha_phi'] * 3 * H
        Gamma_chi = p['alpha_chi'] * 3 * H

        ddphi = -3*H*dphi[i] - dV_dphi(phi[i], chi[i], p) + zeta_phi[i]
        ddchi = -3*H*dchi[i] - dV_dchi(phi[i], chi[i], p) + zeta_chi[i]

        dphi[i+1] = dphi[i] + ddphi * dt
        phi[i+1] = phi[i] + dphi[i+1] * dt

        dchi[i+1] = dchi[i] + ddchi * dt
        chi[i+1] = chi[i] + dchi[i+1] * dt

        zeta_phi[i+1] = zeta_phi[i] + OU_step(zeta_phi[i], p['tau_phi'], Gamma_phi, Tgh, dt)
        zeta_chi[i+1] = zeta_chi[i] + OU_step(zeta_chi[i], p['tau_chi'], Gamma_chi, Tgh, dt)

    return phi, dphi, chi, dchi

def power_spectrum(signal, dt):
    N = len(signal)
    freqs = rfftfreq(N, dt)
    spectrum = np.abs(rfft(signal))**2
    return freqs, spectrum

def compute_Q(freqs, spectrum):
    peak_idx = np.argmax(spectrum)
    f0 = freqs[peak_idx]
    half_max = spectrum[peak_idx] / 2
    width = np.sum(spectrum > half_max) * (freqs[1] - freqs[0])
    Q = f0 / width if width > 0 else 0
    return Q

# --- 2. Parámetros base ---
params_base = {
    'm_phi': 1.0, 'm_chi': 1.0,
    'lambda_phi': 0.1, 'lambda_chi': 0.1,
    'g': 0.2, 'V0': 0.0,
    'alpha_phi': 1.0, 'alpha_chi': 1.0,
    'tau_phi': 2.0, 'tau_chi': 2.0
}

# --- 3. Barrido en τ ---
tau_values = [0, 0.5, 1, 2, 3, 5]
Q_values = []
mean_w_values = []

for tau in tau_values:
    phi, dphi, chi, dchi = simulate_tau(tau, params_base)
    freqs, spec = power_spectrum(phi, dt=0.01)
    Q = compute_Q(freqs, spec)
    Q_values.append(Q)

    Vϕ = -0.5*params_base['m_phi']**2*np.array(phi)**2 + (params_base['lambda_phi']/4)*np.array(phi)**4
    Vχ = 0.5*params_base['m_chi']**2*np.array(chi)**2 + (params_base['lambda_chi']/4)*np.array(chi)**4
    p_total = 0.5*(np.array(dphi)**2 + np.array(dchi)**2) - (Vϕ + Vχ)
    rho_total = 0.5*(np.array(dphi)**2 + np.array(dchi)**2) + Vϕ + Vχ + 0.5*params_base['g']**2*np.array(phi)**2*np.array(chi)**2
    w_total = p_total / rho_total
    mean_w_values.append(np.mean(w_total[-1000:]))

# --- 4. Visualización ---
plt.figure(figsize=(10, 4))
plt.plot(tau_values, Q_values, marker='o', label='Factor de calidad Q', color='darkblue')
plt.xlabel('τ (memoria)')
plt.ylabel('Q')
plt.title('Sensibilidad de la coherencia oscilatoria al parámetro τ')
plt.grid()
plt.legend()
plt.show()

plt.figure(figsize=(10, 4))
plt.plot(tau_values, mean_w_values, marker='s', label='⟨w_total⟩', color='purple')
plt.xlabel('τ (memoria)')
plt.ylabel('⟨w_total⟩')
plt.title('Convergencia de w_total en régimen tardío')
plt.grid()
plt.legend()
plt.show()
