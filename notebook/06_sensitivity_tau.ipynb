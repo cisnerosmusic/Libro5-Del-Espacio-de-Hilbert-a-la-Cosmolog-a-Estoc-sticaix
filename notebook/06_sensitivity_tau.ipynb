{
 "cells": [
  {
   "cell_type": "markdown",
   "metadata": {},
   "source": [
    "# 📘 06_sensitivity_tau.ipynb\n",
    "## Capítulo 7: Sensibilidad al parámetro de memoria τ"
   ]
  },
  {
   "cell_type": "code",
   "execution_count": null,
   "metadata": {},
   "outputs": [],
   "source": [
    "import numpy as np\n",
    "import matplotlib.pyplot as plt\n",
    "from scipy.fft import rfft, rfftfreq\n",
    "from scipy.ndimage import uniform_filter1d"
   ]
  },
  {
   "cell_type": "code",
   "execution_count": null,
   "metadata": {},
   "outputs": [],
   "source": [
    "# --- 1. Funciones reutilizadas ---\n",
    "def simulate_tau(tau_value, params_base, T=100, dt=0.01):\n",
    "    p = params_base.copy()\n",
    "    p['tau_phi'] = tau_value\n",
    "    p['tau_chi'] = tau_value\n",
    "    N = int(T / dt)\n",
    "    phi, dphi = np.zeros(N), np.zeros(N)\n",
    "    chi, dchi = np.zeros(N), np.zeros(N)\n",
    "    zeta_phi, zeta_chi = np.zeros(N), np.zeros(N)\n",
    "\n",
    "    phi[0], chi[0] = 0.1, 0.1\n",
    "    dphi[0], dchi[0] = 0.0, 0.0\n",
    "\n",
    "    for i in range(N-1):\n",
    "        H = np.sqrt(0.5*(dphi[i]**2 + dchi[i]**2) + V(phi[i], chi[i], p))\n",
    "        Tgh = H / (2 * np.pi)\n",
    "        Gamma_phi = p['alpha_phi'] * 3 * H\n",
    "        Gamma_chi = p['alpha_chi'] * 3 * H\n",
    "\n",
    "        ddphi = -3*H*dphi[i] - dV_dphi(phi[i], chi[i], p) + zeta_phi[i]\n",
    "        ddchi = -3*H*dchi[i] - dV_dchi(phi[i], chi[i], p) + zeta_chi[i]\n",
    "\n",
    "        dphi[i+1] = dphi[i] + ddphi * dt\n",
    "        phi[i+1] = phi[i] + dphi[i+1] * dt\n",
    "\n",
    "        dchi[i+1] = dchi[i] + ddchi * dt\n",
    "        chi[i+1] = chi[i] + dchi[i+1] * dt\n",
    "\n",
    "        zeta_phi[i+1] = zeta_phi[i] + OU_step(zeta_phi[i], p['tau_phi'], Gamma_phi, Tgh, dt)\n",
    "        zeta_chi[i+1] = zeta_chi[i] + OU_step(zeta_chi[i], p['tau_chi'], Gamma_chi, Tgh, dt)\n",
    "\n",
    "    return phi, dphi, chi, dchi"
   ]
  },
  {
   "cell_type": "code",
   "execution_count": null,
   "metadata": {},
   "outputs": [],
   "source": [
    "def power_spectrum(signal, dt):\n",
    "    N = len(signal)\n",
    "    freqs = rfftfreq(N, dt)\n",
    "    spectrum = np.abs(rfft(signal))**2\n",
    "    return freqs, spectrum"
   ]
  },
  {
   "cell_type": "code",
   "execution_count": null,
   "metadata": {},
   "outputs": [],
   "source": [
    "def compute_Q(freqs, spectrum):\n",
    "    peak_idx = np.argmax(spectrum)\n",
    "    f0 = freqs[peak_idx]\n",
    "    half_max = spectrum[peak_idx] / 2\n",
    "    width = np.sum(spectrum > half_max) * (freqs[1] - freqs[0])\n",
    "    Q = f0 / width if width > 0 else 0\n",
    "    return Q"
   ]
  },
  {
   "cell_type": "code",
   "execution_count": null,
   "metadata": {},
   "outputs": [],
   "source": [
    "# --- 2. Parámetros base ---\n",
    "params_base = {\n",
    "    'm_phi': 1.0, 'm_chi': 1.0,\n",
    "    'lambda_phi': 0.1, 'lambda_chi': 0.1,\n",
    "    'g': 0.2, 'V0': 0.0,\n",
    "    'alpha_phi': 1.0, 'alpha_chi': 1.0,\n",
    "    'tau_phi': 2.0, 'tau_chi': 2.0\n",
    "}"
   ]
  },
  {
   "cell_type": "code",
   "execution_count": null,
   "metadata": {},
   "outputs": [],
   "source": [
    "# --- 3. Barrido en τ ---\n",
    "tau_values = [0, 0.5, 1, 2, 3, 5]\n",
    "Q_values = []\n",
    "mean_w_values = []\n",
    "\n",
    "for tau in tau_values:\n",
    "    phi, dphi, chi, dchi = simulate_tau(tau, params_base)\n",
    "    freqs, spec = power_spectrum(phi, dt=0.01)\n",
    "    Q = compute_Q(freqs, spec)\n",
    "    Q_values.append(Q)\n",
    "\n",
    "    Vϕ = -0.5*params_base['m_phi']**2*np.array(phi)**2 + (params_base['lambda_phi']/4)*np.array(phi)**4\n",
    "    Vχ = 0.5*params_base['m_chi']**2*np.array(chi)**2 + (params_base['lambda_chi']/4)*np.array(chi)**4\n",
    "    p_total = 0.5*(np.array(dphi)**2 + np.array(dchi)**2) - (Vϕ + Vχ)\n",
    "    rho_total = 0.5*(np.array(dphi)**2 + np.array(dchi)**2) + Vϕ + Vχ + 0.5*params_base['g']**2*np.array(phi)**2*np.array(chi)**2\n",
    "    w_total = p_total / rho_total\n",
    "    mean_w_values.append(np.mean(w_total[-1000:]))"
   ]
  },
  {
   "cell_type": "code",
   "execution_count": null,
   "metadata": {},
   "outputs": [],
   "source": [
    "# --- 4. Visualización ---\n",
    "plt.figure(figsize=(10, 4))\n",
    "plt.plot(tau_values, Q_values, marker='o', label='Factor de calidad Q', color='darkblue')\n",
    "plt.xlabel('τ (memoria)')\n",
    "plt.ylabel('Q')\n",
    "plt.title('Sensibilidad de la coherencia oscilatoria al parámetro τ')\n",
    "plt.grid()\n",
    "plt.legend()\n",
    "plt.show()\n",
    "\n",
    "plt.figure(figsize=(10, 4))\n",
    "plt.plot(tau_values, mean_w_values, marker='s', label='⟨w_total⟩', color='purple')\n",
    "plt.xlabel('τ (memoria)')\n",
    "plt.ylabel('⟨w_total⟩')\n",
    "plt.title('Convergencia de w_total en régimen tardío')\n",
    "plt.grid()\n",
    "plt.legend()\n",
    "plt.show()"
   ]
  }
 ],
 "metadata": {
  "kernelspec": {
   "display_name": "Python 3",
   "language": "python",
   "name": "python3"
  },
  "language_info": {
   "name": "python",
   "version": "3.10"
  }
 },
 "nbformat": 4,
 "nbformat_minor": 
 "nbformat": 4,
 "nbformat_minor": 2
}
