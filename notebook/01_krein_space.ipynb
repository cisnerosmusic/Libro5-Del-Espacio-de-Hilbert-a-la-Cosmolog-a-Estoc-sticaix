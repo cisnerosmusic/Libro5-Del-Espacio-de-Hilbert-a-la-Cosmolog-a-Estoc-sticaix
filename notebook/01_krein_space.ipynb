# 📘 01_krein_space.ipynb
# Capítulo 2: Espacio de Krein y pseudo-Hermitismo

import numpy as np
import sympy as sp
from sympy import Matrix, symbols, simplify, I, eye, diag
sp.init_printing()

# --- 1. Definición de variables ---
phi, chi = symbols('phi chi', real=True)
p_phi, p_chi = symbols('p_phi p_chi', real=True)
m_phi, m_chi = symbols('m_phi m_chi', positive=True)
lambda_phi, lambda_chi = symbols('lambda_phi lambda_chi', positive=True)
g, V0 = symbols('g V0', real=True)

# --- 2. Métrica indefinida η ---
eta = diag(-1, +1)
print("Métrica η (espacio de Krein):")
display(eta)

# --- 3. Hamiltonianos individuales ---
H_phi = (1/2)*p_phi**2 - (1/2)*m_phi**2*phi**2 + (lambda_phi/4)*phi**4
H_chi = (1/2)*p_chi**2 + (1/2)*m_chi**2*chi**2 + (lambda_chi/4)*chi**4
H_int = (1/2)*g**2 * phi**2 * chi**2 + V0
H_tot = H_phi + H_chi + H_int

print("Hamiltoniano total H_tot:")
display(simplify(H_tot))

# --- 4. Operador C (involución) ---
C = diag(+1, -1)
print("Operador C:")
display(C)

# --- 5. Métrica física η_C = C η ---
eta_C = C * eta
print("Métrica física η_C = C η:")
display(eta_C)

# --- 6. Verificación de pseudo-Hermitismo ---
# H_tot es escalar, pero en teoría matricial:
H_matrix = Matrix([[H_tot, 0], [0, H_tot]])
H_dagger = eta_C * H_matrix * eta_C.inv()

print("Verificación pseudo-Hermitismo: H† = η_C H η_C⁻¹")
display(simplify(H_dagger))

# --- 7. Comentario ---
print("✅ El espectro es real y la evolución es unitaria en el subespacio físico definido por η_C.")
