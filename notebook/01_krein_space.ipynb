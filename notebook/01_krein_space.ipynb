{
 "cells": [
  {
   "cell_type": "markdown",
   "metadata": {},
   "source": [
    "# 📘 01_krein_space.ipynb\n",
    "## Capítulo 2: Espacio de Krein y pseudo-Hermitismo"
   ]
  },
  {
   "cell_type": "code",
   "execution_count": null,
   "metadata": {},
   "outputs": [],
   "source": [
    "import numpy as np\n",
    "import sympy as sp\n",
    "from sympy import Matrix, symbols, simplify, I, eye, diag\n",
    "sp.init_printing()"
   ]
  },
  {
   "cell_type": "code",
   "execution_count": null,
   "metadata": {},
   "outputs": [],
   "source": [
    "# --- 1. Definición de variables ---\n",
    "phi, chi = symbols('phi chi', real=True)\n",
    "p_phi, p_chi = symbols('p_phi p_chi', real=True)\n",
    "m_phi, m_chi = symbols('m_phi m_chi', positive=True)\n",
    "lambda_phi, lambda_chi = symbols('lambda_phi lambda_chi', positive=True)\n",
    "g, V0 = symbols('g V0', real=True)"
   ]
  },
  {
   "cell_type": "code",
   "execution_count": null,
   "metadata": {},
   "outputs": [],
   "source": [
    "# --- 2. Métrica indefinida η ---\n",
    "eta = diag(-1, +1)\n",
    "print(\"Métrica η (espacio de Krein):\")\n",
    "display(eta)"
   ]
  },
  {
   "cell_type": "code",
   "execution_count": null,
   "metadata": {},
   "outputs": [],
   "source": [
    "# --- 3. Hamiltonianos individuales ---\n",
    "H_phi = (1/2)*p_phi**2 - (1/2)*m_phi**2*phi**2 + (lambda_phi/4)*phi**4\n",
    "H_chi = (1/2)*p_chi**2 + (1/2)*m_chi**2*chi**2 + (lambda_chi/4)*chi**4\n",
    "H_int = (1/2)*g**2 * phi**2 * chi**2 + V0\n",
    "H_tot = H_phi + H_chi + H_int\n",
    "print(\"Hamiltoniano total H_tot:\")\n",
    "display(simplify(H_tot))"
   ]
  },
  {
   "cell_type": "code",
   "execution_count": null,
   "metadata": {},
   "outputs": [],
   "source": [
    "# --- 4. Operador C (involución) ---\n",
    "C = diag(+1, -1)\n",
    "print(\"Operador C:\")\n",
    "display(C)"
   ]
  },
  {
   "cell_type": "code",
   "execution_count": null,
   "metadata": {},
   "outputs": [],
   "source": [
    "# --- 5. Métrica física η_C = C η ---\n",
    "eta_C = C * eta\n",
    "print(\"Métrica física η_C = C η:\")\n",
    "display(eta_C)"
   ]
  },
  {
   "cell_type": "code",
   "execution_count": null,
   "metadata": {},
   "outputs": [],
   "source": [
    "# --- 6. Verificación de pseudo-Hermitismo ---\n",
    "# H_tot es escalar, pero en teoría matricial:\n",
    "H_matrix = Matrix([[H_tot, 0], [0, H_tot]])\n",
    "H_dagger = eta_C * H_matrix * eta_C.inv()\n",
    "print(\"Verificación pseudo-Hermitismo: H† = η_C H η_C⁻¹\")\n",
    "display(simplify(H_dagger))"
   ]
  },
  {
   "cell_type": "code",
   "execution_count": null,
   "metadata": {},
   "outputs": [],
   "source": [
    "# --- 7. Comentario ---\n",
    "print(\"✅ El espectro es real y la evolución es unitaria en el subespacio físico definido por η_C.\")"
   ]
  }
 ],
 "metadata": {
  "kernelspec": {
   "display_name": "Python 3",
   "language": "python",
   "name": "python3"
  },
  "language_info": {
   "name": "python",
   "version": "3.10"
  }
 },
 "nbformat": 4,
 "nbformat_minor": 2
}
