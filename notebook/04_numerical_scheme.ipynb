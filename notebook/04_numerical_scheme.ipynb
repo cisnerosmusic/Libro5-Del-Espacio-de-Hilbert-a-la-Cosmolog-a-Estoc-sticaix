# 📘 04_numerical_scheme.ipynb
# Capítulo 5: Integración estocástica y ciclos límite

import numpy as np
import matplotlib.pyplot as plt
from scipy.fft import rfft, rfftfreq

# --- 1. Parámetros del modelo ---
params = {
    'm_phi': 1.0,
    'm_chi': 1.0,
    'lambda_phi': 0.1,
    'lambda_chi': 0.1,
    'g': 0.2,
    'V0': 0.0,
    'alpha_phi': 1.0,
    'alpha_chi': 1.0,
    'tau_phi': 2.0,
    'tau_chi': 2.0
}

# --- 2. Potencial y derivadas ---
def V(phi, chi, p): return -0.5*p['m_phi']**2*phi**2 + (p['lambda_phi']/4)*phi**4 + \
    0.5*p['m_chi']**2*chi**2 + (p['lambda_chi']/4)*chi**4 + \
    0.5*p['g']**2*phi**2*chi**2 + p['V0']

def dV_dphi(phi, chi, p): return -p['m_phi']**2*phi + p['lambda_phi']*phi**3 + p['g']**2*phi*chi**2
def dV_dchi(phi, chi, p): return p['m_chi']**2*chi + p['lambda_chi']*chi**3 + p['g']**2*chi*phi**2

# --- 3. Hubble y temperatura ---
def Hubble(phi, chi, dphi, dchi, p): return np.sqrt(0.5*(dphi**2 + dchi**2) + V(phi, chi, p))
def T_GH(H): return H / (2 * np.pi)

# --- 4. Ruido OU autoconsistente ---
def OU_step(zeta, tau, Gamma, Tgh, dt):
    decay = -zeta / tau
    diffusion = np.sqrt(2 * Gamma * Tgh / tau**2) * np.random.normal(0, np.sqrt(dt))
    return decay + diffusion

# --- 5. Integración Euler–Maruyama ---
def simulate(params, T=100, dt=0.01):
    N = int(T / dt)
    t = np.linspace(0, T, N)
    phi, dphi = np.zeros(N), np.zeros(N)
    chi, dchi = np.zeros(N), np.zeros(N)
    zeta_phi, zeta_chi = np.zeros(N), np.zeros(N)

    # Condiciones iniciales
    phi[0], chi[0] = 0.1, 0.1
    dphi[0], dchi[0] = 0.0, 0.0

    for i in range(N-1):
        H = Hubble(phi[i], chi[i], dphi[i], dchi[i], params)
        Tgh = T_GH(H)
        Gamma_phi = params['alpha_phi'] * 3 * H
        Gamma_chi = params['alpha_chi'] * 3 * H

        ddphi = -3*H*dphi[i] - dV_dphi(phi[i], chi[i], params) + zeta_phi[i]
        ddchi = -3*H*dchi[i] - dV_dchi(phi[i], chi[i], params) + zeta_chi[i]

        dphi[i+1] = dphi[i] + ddphi * dt
        phi[i+1] = phi[i] + dphi[i+1] * dt

        dchi[i+1] = dchi[i] + ddchi * dt
        chi[i+1] = chi[i] + dchi[i+1] * dt

        zeta_phi[i+1] = zeta_phi[i] + OU_step(zeta_phi[i], params['tau_phi'], Gamma_phi, Tgh, dt)
        zeta_chi[i+1] = zeta_chi[i] + OU_step(zeta_chi[i], params['tau_chi'], Gamma_chi, Tgh, dt)

    return t, phi, dphi, chi, dchi

# --- 6. Simulación ---
t, phi, dphi, chi, dchi = simulate(params)

# --- 7. Diagramas de fase ---
plt.figure(figsize=(12, 5))
plt.subplot(1, 2, 1)
plt.plot(phi, dphi, color='darkblue')
plt.xlabel('ϕ')
plt.ylabel('ϕ̇')
plt.title('Diagrama de fase (ϕ, ϕ̇)')

plt.subplot(1, 2, 2)
plt.plot(chi, dchi, color='darkgreen')
plt.xlabel('χ')
plt.ylabel('χ̇')
plt.title('Diagrama de fase (χ, χ̇)')
plt.tight_layout()
plt.show()

# --- 8. Espectros de potencia ---
def power_spectrum(signal, dt):
    N = len(signal)
    freqs = rfftfreq(N, dt)
    spectrum = np.abs(rfft(signal))**2
    return freqs, spectrum

freqs_phi, spec_phi = power_spectrum(phi, dt=0.01)
freqs_chi, spec_chi = power_spectrum(chi, dt=0.01)

plt.figure(figsize=(10, 4))
plt.plot(freqs_phi, spec_phi, label='ϕ(t)', color='navy')
plt.plot(freqs_chi, spec_chi, label='χ(t)', color='forestgreen')
plt.xlabel('Frecuencia')
plt.ylabel('Potencia')
plt.title('Espectros de potencia')
plt.legend()
plt.grid()
plt.show()
