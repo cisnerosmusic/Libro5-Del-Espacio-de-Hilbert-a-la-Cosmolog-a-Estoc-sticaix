{
 "cells": [
  {
   "cell_type": "markdown",
   "metadata": {},
   "source": [
    "# 📘 04_numerical_scheme.ipynb\n",
    "## Capítulo 5: Integración estocástica y ciclos límite"
   ]
  },
  {
   "cell_type": "code",
   "execution_count": null,
   "metadata": {},
   "outputs": [],
   "source": [
    "import numpy as np\n",
    "import matplotlib.pyplot as plt\n",
    "from scipy.fft import rfft, rfftfreq"
   ]
  },
  {
   "cell_type": "code",
   "execution_count": null,
   "metadata": {},
   "outputs": [],
   "source": [
    "# --- 1. Parámetros del modelo ---\n",
    "params = {\n",
    "    'm_phi': 1.0,\n",
    "    'm_chi': 1.0,\n",
    "    'lambda_phi': 0.1,\n",
    "    'lambda_chi': 0.1,\n",
    "    'g': 0.2,\n",
    "    'V0': 0.0,\n",
    "    'alpha_phi': 1.0,\n",
    "    'alpha_chi': 1.0,\n",
    "    'tau_phi': 2.0,\n",
    "    'tau_chi': 2.0\n",
    "}"
   ]
  },
  {
   "cell_type": "code",
   "execution_count": null,
   "metadata": {},
   "outputs": [],
   "source": [
    "# --- 2. Potencial y derivadas ---\n",
    "def V(phi, chi, p):\n",
    "    return -0.5*p['m_phi']**2*phi**2 + (p['lambda_phi']/4)*phi**4 + \\\n",
    "           0.5*p['m_chi']**2*chi**2 + (p['lambda_chi']/4)*chi**4 + \\\n",
    "           0.5*p['g']**2*phi**2*chi**2 + p['V0']\n",
    "\n",
    "def dV_dphi(phi, chi, p):\n",
    "    return -p['m_phi']**2*phi + p['lambda_phi']*phi**3 + p['g']**2*phi*chi**2\n",
    "\n",
    "def dV_dchi(phi, chi, p):\n",
    "    return p['m_chi']**2*chi + p['lambda_chi']*chi**3 + p['g']**2*chi*phi**2"
   ]
  },
  {
   "cell_type": "code",
   "execution_count": null,
   "metadata": {},
   "outputs": [],
   "source": [
    "# --- 3. Hubble y temperatura ---\n",
    "def Hubble(phi, chi, dphi, dchi, p):\n",
    "    return np.sqrt(0.5*(dphi**2 + dchi**2) + V(phi, chi, p))\n",
    "\n",
    "def T_GH(H):\n",
    "    return H / (2 * np.pi)"
   ]
  },
  {
   "cell_type": "code",
   "execution_count": null,
   "metadata": {},
   "outputs": [],
   "source": [
    "# --- 4. Ruido OU autoconsistente ---\n",
    "def OU_step(zeta, tau, Gamma, Tgh, dt):\n",
    "    decay = -zeta / tau\n",
    "    diffusion = np.sqrt(2 * Gamma * Tgh / tau**2) * np.random.normal(0, np.sqrt(dt))\n",
    "    return decay + diffusion"
   ]
  },
  {
   "cell_type": "code",
   "execution_count": null,
   "metadata": {},
   "outputs": [],
   "source": [
    "# --- 5. Integración Euler–Maruyama ---\n",
    "def simulate(params, T=100, dt=0.01):\n",
    "    N = int(T / dt)\n",
    "    t = np.linspace(0, T, N)\n",
    "    phi, dphi = np.zeros(N), np.zeros(N)\n",
    "    chi, dchi = np.zeros(N), np.zeros(N)\n",
    "    zeta_phi, zeta_chi = np.zeros(N), np.zeros(N)\n",
    "\n",
    "    phi[0], chi[0] = 0.1, 0.1\n",
    "    dphi[0], dchi[0] = 0.0, 0.0\n",
    "\n",
    "    for i in range(N-1):\n",
    "        H = Hubble(phi[i], chi[i], dphi[i], dchi[i], params)\n",
    "        Tgh = T_GH(H)\n",
    "        Gamma_phi = params['alpha_phi'] * 3 * H\n",
    "        Gamma_chi = params['alpha_chi'] * 3 * H\n",
    "\n",
    "        ddphi = -3*H*dphi[i] - dV_dphi(phi[i], chi[i], params) + zeta_phi[i]\n",
    "        ddchi = -3*H*dchi[i] - dV_dchi(phi[i], chi[i], params) + zeta_chi[i]\n",
    "\n",
    "        dphi[i+1] = dphi[i] + ddphi * dt\n",
    "        phi[i+1] = phi[i] + dphi[i+1] * dt\n",
    "\n",
    "        dchi[i+1] = dchi[i] + ddchi * dt\n",
    "        chi[i+1] = chi[i] + dchi[i+1] * dt\n",
    "\n",
    "        zeta_phi[i+1] = zeta_phi[i] + OU_step(zeta_phi[i], params['tau_phi'], Gamma_phi, Tgh, dt)\n",
    "        zeta_chi[i+1] = zeta_chi[i] + OU_step(zeta_chi[i], params['tau_chi'], Gamma_chi, Tgh, dt)\n",
    "\n",
    "    return t, phi, dphi, chi, dchi"
   ]
  },
  {
   "cell_type": "code",
   "execution_count": null,
   "metadata": {},
   "outputs": [],
   "source": [
    "# --- 6. Simulación ---\n",
    "t, phi, dphi, chi, dchi = simulate(params)"
   ]
  },
  {
   "cell_type": "code",
   "execution_count": null,
   "metadata": {},
   "outputs": [],
   "source": [
    "# --- 7. Diagramas de fase ---\n",
    "plt.figure(figsize=(12, 5))\n",
    "plt.subplot(1, 2, 1)\n",
    "plt.plot(phi, dphi, color='darkblue')\n",
    "plt.xlabel('ϕ')\n",
    "plt.ylabel('ϕ̇')\n",
    "plt.title('Diagrama de fase (ϕ, ϕ̇)')\n",
    "\n",
    "plt.subplot(1, 2, 2)\n",
    "plt.plot(chi, dchi, color='darkgreen')\n",
    "plt.xlabel('χ')\n",
    "plt.ylabel('χ̇')\n",
    "plt.title('Diagrama de fase (χ, χ̇)')\n",
    "plt.tight_layout()\n",
    "plt.show()"
   ]
  },
  {
   "cell_type": "code",
   "execution_count": null,
   "metadata": {},
   "outputs": [],
   "source": [
    "# --- 8. Espectros de potencia ---\n",
    "def power_spectrum(signal, dt):\n",
    "    N = len(signal)\n",
    "    freqs = rfftfreq(N, dt)\n",
    "    spectrum = np.abs(rfft(signal))**2\n",
    "    return freqs, spectrum\n",
    "\n",
    "freqs_phi, spec_phi = power_spectrum(phi, dt=0.01)\n",
    "freqs_chi, spec_chi = power_spectrum(chi, dt=0.01)\n",
    "\n",
    "plt.figure(figsize=(10, 4))\n
    "plt.plot(freqs_phi, spec_phi, label='ϕ(t)', color='navy')\n",
    "plt.plot(freqs_chi, spec_chi, label='χ(t)', color='forestgreen')\n",
    "plt.xlabel('Frecuencia')\n",
    "plt.ylabel('Potencia')\n",
    "plt.title('Espectros de potencia')\n",
    "plt.legend()\n",
    "plt.grid()\n",
    "plt.show()"
   ]
  }
 ],
 "metadata": {
  "kernelspec": {
   "display_name": "Python 3",
   "language": "python",
   "name": "python3"
  },
  "language_info": {
   "name": "python",
   "version": "3.10"
  }
 },
 "nbformat": 4,
 "nbformat_minor": 2
}
